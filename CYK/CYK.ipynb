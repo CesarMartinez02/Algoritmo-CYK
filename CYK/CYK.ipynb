{
  "nbformat": 4,
  "nbformat_minor": 0,
  "metadata": {
    "colab": {
      "provenance": []
    },
    "kernelspec": {
      "name": "python3",
      "display_name": "Python 3"
    },
    "language_info": {
      "name": "python"
    }
  },
  "cells": [
    {
      "cell_type": "markdown",
      "source": [
        "# **Implementación del Algoritmo CYK y Análisis de su Complejidad**\n",
        "\n",
        "César Camilo Martinez Andrade\n",
        "\n",
        "Mateo Pissarello Londoño\n",
        "\n",
        "David Ricardo Jimenez Nuñez\n"
      ],
      "metadata": {
        "id": "ZBblS6S7XDNq"
      }
    },
    {
      "cell_type": "markdown",
      "source": [
        "## 1. ¿Qué es el algoritmo CYK?\n",
        "\n",
        "El Algoritmo de ocke-Younger-Kasami (CYK) determina si una cadena puede ser generada o no por una gramática libre de contexto y, si es posible, cómo puede llegar a ser generada. Este resulta ser el análisis sintáctico de la cadena.\n",
        "\n",
        "CYK reconoce lenguajes definidos por una gramática libre de contexto escrita en la forma normal de Chomsky (CNF). Ejemplo:\n",
        "\n",
        "$${\\displaystyle A}\n",
        "{\\displaystyle \\rightarrow \\,}\n",
        "E\n",
        "S\n",
        "$$\n",
        "\n",
        "$${\\displaystyle E}\n",
        "{\\displaystyle \\rightarrow \\,}\n",
        "α $$\n",
        "\n",
        "$${\\displaystyle S}\n",
        "{\\displaystyle \\rightarrow \\,}\n",
        "ϵ $$\n",
        "\n",
        "Nótese que cualquier gramática libre de contexto puede ser convertida a CNF. También es importante saber que  se puede ajustar el algoritmo CYK para que trabaje sobre algunas gramáticas no escritas como CNF. Esto puede hacerse para mejorar la ejecución, aunque el algoritmo pasa a ser más difícil de comprender.\n",
        "\n",
        "En el peor caso la complejidad temporal de CYK es de Θ(n3), donde n es la longitud de la cadena analizada. Esto convierte al CYK como uno de los algoritmos más eficientes en el reconocimiento de los lenguajes libres de contexto."
      ],
      "metadata": {
        "id": "-ig9Sms4Yr1P"
      }
    },
    {
      "cell_type": "markdown",
      "source": [
        "# 2. Implementación\n",
        "\n",
        "El input del algoritmo está formado por una gramática libre de\n",
        "contexto.\n",
        "\n",
        "$$G = (V, Σ, q0, P)$$\n",
        "\n",
        "y por una forma terminal, es decir,\n",
        "\n",
        "$$ω := a_1a_2 · · · a_n−1a_n ∈ Σ*$$\n",
        "\n",
        "Siendo *ω* una cadena con *n* carácteres pertenecientes al vocabulario *Σ*\n",
        "\n",
        "El output del algoritmo es una tabla triangular. Para\n",
        "interpretarlo, podemos entender la tabla de output como:\n",
        "\n",
        "$$t :  [(i, j) : 1 ≤ i ≤ n, 1 ≤ j ≤ n − i + 1 ] → P(V)$$\n",
        "\n",
        "Donde *V* son los símbolos no terminales de la gramática y\n",
        "*P(V)* son los subconjuntos de V. A la imagen *t(i, j) ∈ P(V)* la\n",
        "denotaremos con sub-índices. Es decir, escribiremos\n",
        "ti,j ∈ P(V).\n",
        "\n",
        "El algoritmo considera todas las subcadenas de ω que pueden ser generadas por la gramática, primero las de longitud 1, continua con las de longitud 2 y así sucesivamente, en caso de que la longitud de ω se considera cada partición posible de 2 partes. Una vez esto se complete la cadena es reconocida por la gramática.\n",
        "\n",
        "Ejemplo:\n",
        "\n",
        "\\begin{align}\n",
        "S &\\rightarrow \\text{NP} \\ \\text{VP} \\\\\n",
        "VP &\\rightarrow \\text{VP} \\ \\text{PP} \\\\\n",
        "VP &\\rightarrow \\text{V} \\ \\text{NP} \\\\\n",
        "VP &\\rightarrow \\text{come} \\\\\n",
        "PP &\\rightarrow \\text{P} \\ \\text{NP} \\\\\n",
        "NP &\\rightarrow \\text{Det} \\ \\text{N} \\\\\n",
        "NP &\\rightarrow \\text{ella} \\\\\n",
        "V &\\rightarrow \\text{come} \\\\\n",
        "P &\\rightarrow \\text{con} \\\\\n",
        "N &\\rightarrow \\text{pez} \\\\\n",
        "N &\\rightarrow \\text{tenedor} \\\\\n",
        "Det &\\rightarrow \\text{a}\n",
        "\\end{align}\n",
        "\n"
      ],
      "metadata": {
        "id": "Y2hBIeUBbdGT"
      }
    },
    {
      "cell_type": "code",
      "execution_count": 89,
      "metadata": {
        "colab": {
          "base_uri": "https://localhost:8080/"
        },
        "id": "XtpB6hjLXCQr",
        "outputId": "3b6ebbe1-071d-44d0-8b4a-508f9a857194"
      },
      "outputs": [
        {
          "output_type": "stream",
          "name": "stdout",
          "text": [
            "NO PERTENECE\n",
            "Tiempo de ejecución: 1.5086209774017334 segundos\n"
          ]
        },
        {
          "output_type": "execute_result",
          "data": {
            "text/plain": [
              "[1.5086209774017334]"
            ]
          },
          "metadata": {},
          "execution_count": 89
        }
      ],
      "source": [
        "import time\n",
        "\n",
        "def cyk(String, Computed={}, Grammar=[]):\n",
        "    if String in Computed:\n",
        "        return Computed\n",
        "    else:\n",
        "        if len(String) == 1:\n",
        "            Computed[String] = \"\"\n",
        "            for Notation in Grammar:\n",
        "                if Notation[1] == String:\n",
        "                    Computed[String] += (Notation[0])\n",
        "            Computed[String] = str(sorted(Computed[String])).replace(\"'\", \"\").replace(\" \", \"\")\n",
        "            return Computed\n",
        "        else:\n",
        "            Computed[String] = \"\"\n",
        "            for i in range(1, len(String)):\n",
        "                Splitted1 = String[:i]\n",
        "                Splitted2 = String[i:]\n",
        "                Computed1 = cyk(Splitted1, Computed, Grammar)[Splitted1]\n",
        "                Computed2 = cyk(Splitted2, Computed, Grammar)[Splitted2]\n",
        "                if Computed1 != \"\" and Computed2 != \"\":\n",
        "                    for Var1 in Computed1:\n",
        "                        for Var2 in Computed2:\n",
        "                            for Notation in Grammar:\n",
        "                                if Var1 + Var2 in Notation[1] and Notation[0] not in Computed[String]:\n",
        "                                    Computed[String] += (Notation[0])\n",
        "            Computed[String] = str(sorted(Computed[String])).replace(\"'\", \"\").replace(\" \", \"\")\n",
        "            return Computed\n",
        "\n",
        "\n",
        "def print_cyk(String, Grammar):\n",
        "    result = cyk(String, {}, Grammar)\n",
        "    if result[String] != \"[]\" and \"S\" in result[String]:\n",
        "        print(\"PERTENECE\")\n",
        "        for i in range(1, len(String) + 1):\n",
        "            for j in range(len(String) - i):\n",
        "                if String[j:j + i] in result:\n",
        "                    print(String[j:j + i] + \" : \" + result[String[j:j + i]] + \" , \", end=\"\")\n",
        "                else:\n",
        "                    print(String[j:j + i] + \" : \" + \"[]\" + \" , \", end=\"\")\n",
        "            print(String[-i:], \" : \" + result[String[-i:]])\n",
        "    else:\n",
        "        print(\"NO PERTENECE\")\n",
        "\n",
        "\n",
        "def cykcomplete(file_path):\n",
        "    # Medición de tiempo de ejecución\n",
        "\n",
        "    Times = []\n",
        "\n",
        "    start_time = time.time()\n",
        "\n",
        "    with open(file_path, 'r') as f:\n",
        "        lines = f.readlines()\n",
        "\n",
        "    NumOfNotations = int(lines[0].strip())\n",
        "    Grammar = [line.strip().split(\" -> \") for line in lines[1:NumOfNotations + 1]]\n",
        "    String = lines[NumOfNotations + 1].strip()\n",
        "    print_cyk(String, Grammar)\n",
        "\n",
        "    # Imprimir el tiempo de ejecución\n",
        "    end_time = time.time()\n",
        "    Times.append(end_time - start_time)\n",
        "    print(f\"Tiempo de ejecución: {end_time - start_time} segundos\")\n",
        "    return Times\n",
        "\n",
        "\n",
        "# Ejecución principal\n",
        "cykcomplete('/content/prueba10.txt')\n"
      ]
    },
    {
      "cell_type": "code",
      "source": [
        "#Los  tiempos que resultaron  fueron:\n",
        "import matplotlib.pyplot as plt\n",
        "\n",
        "\n",
        "def file_handler(archivo):\n",
        "    nums = []\n",
        "    with open(archivo, 'r') as file:\n",
        "        for linea in file:\n",
        "            nums.append(float(linea.strip()))\n",
        "    return nums\n",
        "\n",
        "# Graficar los números\n",
        "def graf(nums):\n",
        "    plt.plot(nums, marker='o', linestyle='-', color='orange')\n",
        "    plt.title('Rendimiento CYK')\n",
        "    plt.xlabel('')\n",
        "    plt.ylabel('Tiempo(s)')\n",
        "    plt.grid(True)\n",
        "    plt.show()\n",
        "\n",
        "# Archivo de entrada con números flotantes\n",
        "archivo = '/content/Tiempos.txt'\n",
        "\n",
        "# Ejecutar\n",
        "numeros = file_handler(archivo)\n",
        "graf(numeros)\n"
      ],
      "metadata": {
        "colab": {
          "base_uri": "https://localhost:8080/",
          "height": 452
        },
        "id": "dMf5jAVgIQFm",
        "outputId": "1f144848-3f71-4b43-c1d4-ba90d3c7f1f4"
      },
      "execution_count": 90,
      "outputs": [
        {
          "output_type": "display_data",
          "data": {
            "text/plain": [
              "<Figure size 640x480 with 1 Axes>"
            ],
            "image/png": "[encoded data removed]"
          },
          "metadata": {}
        }
      ]
    },
    {
      "cell_type": "markdown",
      "source": [
        "# Conclusión\n",
        "\n",
        "El algoritmo CYK tiene una complejidad temporal de\n",
        "𝑂(𝑛3), donde n es la longitud de la cadena que se desea analizar. Esta complejidad cúbica lo convierte en uno de los algoritmos más eficientes para el reconocimiento de lenguajes libres de contexto, pero también implica que el tiempo de ejecución crece rápidamente conforme aumenta la longitud de la cadena.\n",
        "\n",
        "Aunque es uno de los algoritmos más eficientes en cuanto a reconocimiento de lenguajes libres de contexto, no es trivial de entender o implementar correctamente. Es crucial que la gramática esté bien definida y convertida a CNF para evitar errores en el procesamiento.\n",
        "\n",
        "El algoritmo es efectivo y confiable para verificar la pertenencia de una cadena a un lenguaje libre de contexto. Sin embargo, su crecimiento cúbico en tiempo de ejecución lo hace ineficiente para análisis de cadenas largas. Si bien es un buen punto de partida para el análisis de gramáticas libres de contexto, se debe tener en cuenta la escalabilidad y considerar otras técnicas o algoritmos más rápidos para conjuntos de datos grandes."
      ],
      "metadata": {
        "id": "_Ab2RkWCZeEs"
      }
    },
    {
      "cell_type": "markdown",
      "source": [
        "### Fuentes"
      ],
      "metadata": {
        "id": "_7noW8fMabSi"
      }
    },
    {
      "cell_type": "code",
      "source": [],
      "metadata": {
        "id": "Hh_oSYRMaams"
      },
      "execution_count": null,
      "outputs": []
    }
  ]
}